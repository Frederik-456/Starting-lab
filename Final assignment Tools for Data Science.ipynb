{
  "metadata": {
    "language_info": {
      "codemirror_mode": {
        "name": "python",
        "version": 3
      },
      "file_extension": ".py",
      "mimetype": "text/x-python",
      "name": "python",
      "nbconvert_exporter": "python",
      "pygments_lexer": "ipython3",
      "version": "3.8"
    },
    "kernelspec": {
      "name": "python",
      "display_name": "Pyolite",
      "language": "python"
    }
  },
  "nbformat_minor": 4,
  "nbformat": 4,
  "cells": [
    {
      "cell_type": "markdown",
      "source": " # My Jupyter Notebook on Skills Network Labs",
      "metadata": {}
    },
    {
      "cell_type": "markdown",
      "source": "**Frederik Mortensen**  \nGeologist, soon to be GIS and data employee",
      "metadata": {}
    },
    {
      "cell_type": "markdown",
      "source": "*I am interested in data science because i am interested in getting a career in GIS and datascience.*",
      "metadata": {}
    },
    {
      "cell_type": "markdown",
      "source": "### The next code cell will calculate how many rings where created to \"rule them all\".",
      "metadata": {}
    },
    {
      "cell_type": "code",
      "source": "2-1",
      "metadata": {
        "trusted": true
      },
      "execution_count": 3,
      "outputs": [
        {
          "execution_count": 3,
          "output_type": "execute_result",
          "data": {
            "text/plain": "1"
          },
          "metadata": {}
        }
      ]
    },
    {
      "cell_type": "markdown",
      "source": "Rings given | Race | Rings can rule them all?\n| ------------- |:-------------:| -----:|\n9  | Men  | No\n7  | Dvarves  | No\n3  | Elves  | No\n\n***\n\nThe only ring that can rule:\n![alt text](https://blenderartists.org/uploads/default/original/4X/d/c/b/dcbb4ad6fc854dd4b4317006841507b1fc8b6661.jpg)",
      "metadata": {}
    },
    {
      "cell_type": "code",
      "source": "",
      "metadata": {},
      "execution_count": null,
      "outputs": []
    },
    {
      "cell_type": "code",
      "source": "",
      "metadata": {},
      "execution_count": null,
      "outputs": []
    }
  ]
}